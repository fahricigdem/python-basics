{
 "cells": [
  {
   "cell_type": "markdown",
   "metadata": {},
   "source": [
    "## Python Basics-2 (Conditions /while/for /methods /*args**kwargs)\n",
    "\n",
    "+ not\n",
    "+ in\n",
    "+ contiue\n",
    "+ break\n",
    "+ range\n",
    "+ pass\n",
    "+ shift tab\n",
    "+ help\n",
    "+ functions\n",
    "+ lambda\n",
    "+ filter and map\n",
    "+ *args and *kwargs"
   ]
  },
  {
   "cell_type": "code",
   "execution_count": 8,
   "metadata": {},
   "outputs": [
    {
     "name": "stdout",
     "output_type": "stream",
     "text": [
      "parolanız = 12\n",
      "falsch kenntwort\n"
     ]
    }
   ],
   "source": [
    "parola = input(\"parolanız = \")\n",
    "\n",
    "if not parola:\n",
    "    print(\"parola girmediniz\")\n",
    "\n",
    "elif parola != 1234:\n",
    "    print('falsch kenntwort')\n"
   ]
  },
  {
   "cell_type": "code",
   "execution_count": 9,
   "metadata": {},
   "outputs": [
    {
     "data": {
      "text/plain": [
       "False"
      ]
     },
     "execution_count": 9,
     "metadata": {},
     "output_type": "execute_result"
    }
   ],
   "source": [
    "not True"
   ]
  },
  {
   "cell_type": "code",
   "execution_count": 12,
   "metadata": {},
   "outputs": [
    {
     "data": {
      "text/plain": [
       "False"
      ]
     },
     "execution_count": 12,
     "metadata": {},
     "output_type": "execute_result"
    }
   ],
   "source": [
    "not 3<5"
   ]
  },
  {
   "cell_type": "code",
   "execution_count": 13,
   "metadata": {},
   "outputs": [
    {
     "data": {
      "text/plain": [
       "True"
      ]
     },
     "execution_count": 13,
     "metadata": {},
     "output_type": "execute_result"
    }
   ],
   "source": [
    "not not 3<4"
   ]
  },
  {
   "cell_type": "code",
   "execution_count": 14,
   "metadata": {},
   "outputs": [
    {
     "data": {
      "text/plain": [
       "False"
      ]
     },
     "execution_count": 14,
     "metadata": {},
     "output_type": "execute_result"
    }
   ],
   "source": [
    "not not not 3<4"
   ]
  },
  {
   "cell_type": "code",
   "execution_count": 15,
   "metadata": {},
   "outputs": [
    {
     "data": {
      "text/plain": [
       "True"
      ]
     },
     "execution_count": 15,
     "metadata": {},
     "output_type": "execute_result"
    }
   ],
   "source": [
    "a=[1,2,3,4]\n",
    "3 in a"
   ]
  },
  {
   "cell_type": "code",
   "execution_count": 16,
   "metadata": {},
   "outputs": [
    {
     "data": {
      "text/plain": [
       "False"
      ]
     },
     "execution_count": 16,
     "metadata": {},
     "output_type": "execute_result"
    }
   ],
   "source": [
    "3 not in a"
   ]
  },
  {
   "cell_type": "code",
   "execution_count": 29,
   "metadata": {},
   "outputs": [
    {
     "name": "stdout",
     "output_type": "stream",
     "text": [
      "1\n",
      "2\n",
      "3\n",
      "5\n",
      "6\n",
      "loop is over\n"
     ]
    }
   ],
   "source": [
    "x=0\n",
    "while x<6:\n",
    "    x+=1\n",
    "    if x==4:\n",
    "        continue\n",
    "    print(x)   \n",
    "else : print('loop is over')"
   ]
  },
  {
   "cell_type": "code",
   "execution_count": 30,
   "metadata": {},
   "outputs": [
    {
     "name": "stdout",
     "output_type": "stream",
     "text": [
      "1\n",
      "2\n",
      "3\n"
     ]
    }
   ],
   "source": [
    "x=0\n",
    "while x<6:\n",
    "    x+=1\n",
    "    if x==4:\n",
    "        break\n",
    "    print(x)   \n",
    "else : print('loop is over')"
   ]
  },
  {
   "cell_type": "code",
   "execution_count": 1,
   "metadata": {},
   "outputs": [
    {
     "name": "stdout",
     "output_type": "stream",
     "text": [
      "bir sayı giriniz=43\n",
      "bir sayı giriniz=43\n",
      "bir sayı giriniz=iptal\n"
     ]
    }
   ],
   "source": [
    "while True:\n",
    "    s= input(\"bir sayı giriniz=\")\n",
    "    if s == \"iptal\":\n",
    "        break\n",
    "    if len(s)<=3:\n",
    "        continue\n",
    "    print(\"en fazla 3 haneli bie sayı girin\")"
   ]
  },
  {
   "cell_type": "code",
   "execution_count": 5,
   "metadata": {},
   "outputs": [
    {
     "name": "stdout",
     "output_type": "stream",
     "text": [
      "bir sayı giriniz=32\n",
      "bir sayı giriniz=32\n",
      "bir sayı giriniz=423\n",
      "bir sayı giriniz=1423\n",
      "en fazla 3 haneli bie sayı girin 487\n",
      "bir sayı giriniz=iptal\n",
      "487\n"
     ]
    }
   ],
   "source": [
    "ss=0\n",
    "while True:\n",
    "    s= input(\"bir sayı giriniz=\")\n",
    "    if s == \"iptal\":\n",
    "        print(ss)\n",
    "        break\n",
    "    if len(s)<=3:\n",
    "        ss=ss+int(s)\n",
    "        continue\n",
    "    print(\"en fazla 3 haneli bie sayı girin\", ss)"
   ]
  },
  {
   "cell_type": "code",
   "execution_count": 26,
   "metadata": {},
   "outputs": [
    {
     "name": "stdout",
     "output_type": "stream",
     "text": [
      "0\n",
      "1\n",
      "2\n",
      "3\n",
      "4\n",
      "5\n",
      "loop is over\n"
     ]
    }
   ],
   "source": [
    "for i in range(6):\n",
    "    if i==4:\n",
    "        pass #break\n",
    "    print(i)\n",
    "else: print ('loop is over')"
   ]
  },
  {
   "cell_type": "code",
   "execution_count": 27,
   "metadata": {},
   "outputs": [
    {
     "name": "stdout",
     "output_type": "stream",
     "text": [
      "0\n",
      "1\n",
      "2\n",
      "3\n",
      "5\n",
      "loop is over\n"
     ]
    }
   ],
   "source": [
    "for i in range(6):\n",
    "    if i==4:\n",
    "        continue \n",
    "    print(i)\n",
    "else: print ('loop is over')"
   ]
  },
  {
   "cell_type": "code",
   "execution_count": 28,
   "metadata": {},
   "outputs": [
    {
     "name": "stdout",
     "output_type": "stream",
     "text": [
      "0\n",
      "1\n",
      "2\n",
      "3\n"
     ]
    }
   ],
   "source": [
    "for i in range(6):\n",
    "    if i==4:\n",
    "        break\n",
    "    print(i)\n",
    "else: print ('loop is over')"
   ]
  },
  {
   "cell_type": "code",
   "execution_count": 34,
   "metadata": {},
   "outputs": [
    {
     "data": {
      "text/plain": [
       "[0, 1, 2, 3, 4]"
      ]
     },
     "execution_count": 34,
     "metadata": {},
     "output_type": "execute_result"
    }
   ],
   "source": [
    "list(range(5))"
   ]
  },
  {
   "cell_type": "code",
   "execution_count": 33,
   "metadata": {},
   "outputs": [
    {
     "name": "stdout",
     "output_type": "stream",
     "text": [
      "range(0, 5)\n"
     ]
    }
   ],
   "source": [
    "print(range(5))"
   ]
  },
  {
   "cell_type": "code",
   "execution_count": 36,
   "metadata": {},
   "outputs": [
    {
     "data": {
      "text/plain": [
       "[5, 6, 7, 8, 9]"
      ]
     },
     "execution_count": 36,
     "metadata": {},
     "output_type": "execute_result"
    }
   ],
   "source": [
    "list(range(5,10))"
   ]
  },
  {
   "cell_type": "code",
   "execution_count": 38,
   "metadata": {},
   "outputs": [
    {
     "data": {
      "text/plain": [
       "[10, 9, 8, 7, 6]"
      ]
     },
     "execution_count": 38,
     "metadata": {},
     "output_type": "execute_result"
    }
   ],
   "source": [
    "list(range(10,5,-1))"
   ]
  },
  {
   "cell_type": "code",
   "execution_count": 39,
   "metadata": {},
   "outputs": [
    {
     "data": {
      "text/plain": [
       "[5, 8, 11, 14]"
      ]
     },
     "execution_count": 39,
     "metadata": {},
     "output_type": "execute_result"
    }
   ],
   "source": [
    "list(range(5,15,3))"
   ]
  },
  {
   "cell_type": "code",
   "execution_count": 19,
   "metadata": {},
   "outputs": [
    {
     "data": {
      "text/plain": [
       "[0, 0, 0, 0, 0, 0, 0, 0, 0, 0]"
      ]
     },
     "execution_count": 19,
     "metadata": {},
     "output_type": "execute_result"
    }
   ],
   "source": [
    "neuList=[i//i-1 for i in list(range(1,11))]\n",
    "neuList"
   ]
  },
  {
   "cell_type": "markdown",
   "metadata": {},
   "source": [
    "#### shift tab make the arguments visible"
   ]
  },
  {
   "cell_type": "code",
   "execution_count": 20,
   "metadata": {},
   "outputs": [],
   "source": [
    "value='Print'"
   ]
  },
  {
   "cell_type": "code",
   "execution_count": 22,
   "metadata": {},
   "outputs": [
    {
     "name": "stdout",
     "output_type": "stream",
     "text": [
      "Print ° Print ° Print\n",
      "ha ha ha \n"
     ]
    }
   ],
   "source": [
    "print(value, value, value,sep=' ° ', end='\\nha ha ha \\n', flush=False)"
   ]
  },
  {
   "cell_type": "code",
   "execution_count": 49,
   "metadata": {},
   "outputs": [
    {
     "name": "stdout",
     "output_type": "stream",
     "text": [
      "Help on built-in function print in module builtins:\n",
      "\n",
      "print(...)\n",
      "    print(value, ..., sep=' ', end='\\n', file=sys.stdout, flush=False)\n",
      "    \n",
      "    Prints the values to a stream, or to sys.stdout by default.\n",
      "    Optional keyword arguments:\n",
      "    file:  a file-like object (stream); defaults to the current sys.stdout.\n",
      "    sep:   string inserted between values, default a space.\n",
      "    end:   string appended after the last value, default a newline.\n",
      "    flush: whether to forcibly flush the stream.\n",
      "\n"
     ]
    }
   ],
   "source": [
    "help(print)"
   ]
  },
  {
   "cell_type": "markdown",
   "metadata": {},
   "source": [
    "#### functions"
   ]
  },
  {
   "cell_type": "code",
   "execution_count": 1,
   "metadata": {},
   "outputs": [
    {
     "name": "stdout",
     "output_type": "stream",
     "text": [
      "ali veli 23\n"
     ]
    }
   ],
   "source": [
    "def person(name,lastname,age):\n",
    "    print(name,lastname,age)\n",
    "person('ali','veli',23)"
   ]
  },
  {
   "cell_type": "code",
   "execution_count": 2,
   "metadata": {},
   "outputs": [
    {
     "ename": "TypeError",
     "evalue": "person() missing 1 required positional argument: 'age'",
     "output_type": "error",
     "traceback": [
      "\u001b[1;31m---------------------------------------------------------------------------\u001b[0m",
      "\u001b[1;31mTypeError\u001b[0m                                 Traceback (most recent call last)",
      "\u001b[1;32m<ipython-input-2-f7c3dea25f5e>\u001b[0m in \u001b[0;36m<module>\u001b[1;34m\u001b[0m\n\u001b[0;32m      1\u001b[0m \u001b[1;32mdef\u001b[0m \u001b[0mperson\u001b[0m\u001b[1;33m(\u001b[0m\u001b[0mname\u001b[0m\u001b[1;33m,\u001b[0m\u001b[0mlastname\u001b[0m\u001b[1;33m,\u001b[0m\u001b[0mage\u001b[0m\u001b[1;33m)\u001b[0m\u001b[1;33m:\u001b[0m\u001b[1;33m\u001b[0m\u001b[1;33m\u001b[0m\u001b[0m\n\u001b[0;32m      2\u001b[0m     \u001b[0mprint\u001b[0m\u001b[1;33m(\u001b[0m\u001b[0mname\u001b[0m\u001b[1;33m,\u001b[0m\u001b[0mlastname\u001b[0m\u001b[1;33m,\u001b[0m\u001b[0mage\u001b[0m\u001b[1;33m)\u001b[0m\u001b[1;33m\u001b[0m\u001b[1;33m\u001b[0m\u001b[0m\n\u001b[1;32m----> 3\u001b[1;33m \u001b[0mperson\u001b[0m\u001b[1;33m(\u001b[0m\u001b[1;34m'ali'\u001b[0m\u001b[1;33m,\u001b[0m\u001b[1;36m23\u001b[0m\u001b[1;33m)\u001b[0m\u001b[1;33m\u001b[0m\u001b[1;33m\u001b[0m\u001b[0m\n\u001b[0m",
      "\u001b[1;31mTypeError\u001b[0m: person() missing 1 required positional argument: 'age'"
     ]
    }
   ],
   "source": [
    "def person(name,lastname,age):\n",
    "    print(name,lastname,age)\n",
    "person('ali',23)"
   ]
  },
  {
   "cell_type": "code",
   "execution_count": 4,
   "metadata": {},
   "outputs": [
    {
     "name": "stdout",
     "output_type": "stream",
     "text": [
      "ali kein lastname 10\n"
     ]
    }
   ],
   "source": [
    "def person(name='noname',lastname=\"kein lastname\",age=0):\n",
    "    print(name,lastname,age)\n",
    "person(name='ali',age=10)"
   ]
  },
  {
   "cell_type": "markdown",
   "metadata": {},
   "source": [
    "#### lambda"
   ]
  },
  {
   "cell_type": "code",
   "execution_count": 143,
   "metadata": {},
   "outputs": [
    {
     "data": {
      "text/plain": [
       "16"
      ]
     },
     "execution_count": 143,
     "metadata": {},
     "output_type": "execute_result"
    }
   ],
   "source": [
    "b = lambda y: y**4\n",
    "b(2)"
   ]
  },
  {
   "cell_type": "code",
   "execution_count": 24,
   "metadata": {},
   "outputs": [
    {
     "name": "stdout",
     "output_type": "stream",
     "text": [
      "1\n",
      "4\n",
      "9\n",
      "16\n"
     ]
    }
   ],
   "source": [
    "b=lambda i: print(i**2)\n",
    "\n",
    "for i in range (1,5):\n",
    "    b(i)\n",
    "    "
   ]
  },
  {
   "cell_type": "markdown",
   "metadata": {},
   "source": [
    "#### filter-lambda     _____iterable func"
   ]
  },
  {
   "cell_type": "code",
   "execution_count": 41,
   "metadata": {},
   "outputs": [
    {
     "data": {
      "text/plain": [
       "<filter at 0x151779db6c8>"
      ]
     },
     "execution_count": 41,
     "metadata": {},
     "output_type": "execute_result"
    }
   ],
   "source": [
    "\"\"\"\"\n",
    "filter(function or None, iterable) --> filter object\n",
    "\n",
    "Return an iterator yielding those items of iterable for which function(item)\n",
    "is true. If function is None, return the items that are true.\"\"\"\n",
    "\n",
    "x=[1,2,3,4,5,6,7,8,9]\n",
    "filter(lambda x:(x%2==0), x)"
   ]
  },
  {
   "cell_type": "code",
   "execution_count": 34,
   "metadata": {},
   "outputs": [
    {
     "data": {
      "text/plain": [
       "[2, 4, 6, 8]"
      ]
     },
     "execution_count": 34,
     "metadata": {},
     "output_type": "execute_result"
    }
   ],
   "source": [
    "list(filter(lambda x:(x%2==0), x))"
   ]
  },
  {
   "cell_type": "markdown",
   "metadata": {},
   "source": [
    "#### map-lambda _____iterable func"
   ]
  },
  {
   "cell_type": "code",
   "execution_count": 36,
   "metadata": {},
   "outputs": [
    {
     "data": {
      "text/plain": [
       "<map at 0x151779d3808>"
      ]
     },
     "execution_count": 36,
     "metadata": {},
     "output_type": "execute_result"
    }
   ],
   "source": [
    "#map(func, *iterables) --> map object\n",
    "map(lambda x:x**2,x)             "
   ]
  },
  {
   "cell_type": "code",
   "execution_count": 37,
   "metadata": {},
   "outputs": [
    {
     "data": {
      "text/plain": [
       "[1, 4, 9, 16, 25, 36, 49, 64, 81]"
      ]
     },
     "execution_count": 37,
     "metadata": {},
     "output_type": "execute_result"
    }
   ],
   "source": [
    "list(map(lambda x:x**2,x))"
   ]
  },
  {
   "cell_type": "markdown",
   "metadata": {},
   "source": [
    "## Arbitrary arguments : *args and *kwargs (key word arguments)\n",
    "\n",
    "The Number of arguments is not defined, it is not clear"
   ]
  },
  {
   "cell_type": "code",
   "execution_count": 45,
   "metadata": {},
   "outputs": [
    {
     "name": "stdout",
     "output_type": "stream",
     "text": [
      "(1, 2, 4, 6)\n",
      "<class 'tuple'>\n"
     ]
    }
   ],
   "source": [
    "def addieren(*args):\n",
    "    print(args)\n",
    "    print(type(args))\n",
    "addieren(1,2,4,6)"
   ]
  },
  {
   "cell_type": "code",
   "execution_count": 25,
   "metadata": {},
   "outputs": [
    {
     "name": "stdout",
     "output_type": "stream",
     "text": [
      "23\n"
     ]
    }
   ],
   "source": [
    "def addieren(*args):\n",
    "    ergebnis=0\n",
    "    for arg in args:\n",
    "        ergebnis=ergebnis+arg\n",
    "    print(ergebnis)\n",
    "addieren(1,2,4,6,6,4)"
   ]
  },
  {
   "cell_type": "code",
   "execution_count": 26,
   "metadata": {},
   "outputs": [
    {
     "name": "stdout",
     "output_type": "stream",
     "text": [
      "23\n"
     ]
    }
   ],
   "source": [
    "def addieren(*numbers):\n",
    "    ergebnis=0\n",
    "    for number in numbers:\n",
    "        ergebnis=ergebnis+number\n",
    "    print(ergebnis)\n",
    "addieren(1,2,4,6,6,4)"
   ]
  },
  {
   "cell_type": "code",
   "execution_count": 48,
   "metadata": {},
   "outputs": [
    {
     "name": "stdout",
     "output_type": "stream",
     "text": [
      "onur cigdem is a teacher\n"
     ]
    }
   ],
   "source": [
    "def teacher(*args):\n",
    "    print('{} {} is a teacher'.format(args[0],args[1]))\n",
    "teacher('onur','cigdem')"
   ]
  },
  {
   "cell_type": "code",
   "execution_count": 49,
   "metadata": {},
   "outputs": [
    {
     "name": "stdout",
     "output_type": "stream",
     "text": [
      "('onur', 'fahri', 'ali', 'husnu') are teacher\n"
     ]
    }
   ],
   "source": [
    "def teacher(*args):\n",
    "    print('{} are teacher'.format(args))\n",
    "teacher('onur','fahri','ali','husnu')"
   ]
  },
  {
   "cell_type": "code",
   "execution_count": 28,
   "metadata": {},
   "outputs": [
    {
     "name": "stdout",
     "output_type": "stream",
     "text": [
      "<class 'list'>\n",
      "(['onur', 'fahri', 'ali', 'husnu'],) are teacher\n"
     ]
    }
   ],
   "source": [
    "def teacher(*args):\n",
    "    print('{} are teacher'.format(args))\n",
    "    \n",
    "names=['onur','fahri','ali','husnu']\n",
    "print(type(names))\n",
    "\n",
    "teacher(names)"
   ]
  },
  {
   "cell_type": "markdown",
   "metadata": {},
   "source": [
    "### kwargs"
   ]
  },
  {
   "cell_type": "code",
   "execution_count": 51,
   "metadata": {},
   "outputs": [
    {
     "name": "stdout",
     "output_type": "stream",
     "text": [
      "{'name': 'ali', 'surname': 'veli'}\n"
     ]
    }
   ],
   "source": [
    "def persons(**kwargs):\n",
    "    print(kwargs) \n",
    "persons(name='ali',surname='veli')"
   ]
  },
  {
   "cell_type": "code",
   "execution_count": 32,
   "metadata": {},
   "outputs": [
    {
     "data": {
      "text/plain": [
       "dict"
      ]
     },
     "execution_count": 32,
     "metadata": {},
     "output_type": "execute_result"
    }
   ],
   "source": [
    "def persons(**kwargs):\n",
    "    return kwargs \n",
    "\n",
    "type(persons(name='ali',surname='veli'))\n"
   ]
  },
  {
   "cell_type": "code",
   "execution_count": 97,
   "metadata": {},
   "outputs": [
    {
     "name": "stdout",
     "output_type": "stream",
     "text": [
      "key name\n",
      "key surname\n"
     ]
    }
   ],
   "source": [
    "def persons(**kwargs):\n",
    "    for i in kwargs.keys():\n",
    "        print('key',i)\n",
    "persons(name='ali',surname='veli')"
   ]
  },
  {
   "cell_type": "code",
   "execution_count": 96,
   "metadata": {},
   "outputs": [
    {
     "name": "stdout",
     "output_type": "stream",
     "text": [
      "value ali\n",
      "value veli\n"
     ]
    }
   ],
   "source": [
    "def persons(**kwargs):\n",
    "    for i in kwargs.values():\n",
    "        print('value',i)\n",
    "persons(name='ali',surname='veli')"
   ]
  },
  {
   "cell_type": "code",
   "execution_count": 95,
   "metadata": {},
   "outputs": [
    {
     "name": "stdout",
     "output_type": "stream",
     "text": [
      "keys and values ('name', 'ali')\n",
      "keys and values ('surname', 'veli')\n",
      "<class 'tuple'>\n"
     ]
    }
   ],
   "source": [
    "def persons(**kwargs):\n",
    "    for i in kwargs.items():\n",
    "        print('keys and values',i)\n",
    "    print(type(i))\n",
    "persons(name='ali',surname='veli')"
   ]
  },
  {
   "cell_type": "code",
   "execution_count": 43,
   "metadata": {},
   "outputs": [
    {
     "name": "stdout",
     "output_type": "stream",
     "text": [
      "key) name , value) ali\n",
      "key) surname , value) veli\n"
     ]
    }
   ],
   "source": [
    "def persons(**kwargs):\n",
    "    for i,j in kwargs.items():\n",
    "        print('key)',i,', value)',j)\n",
    "\n",
    "persons(name='ali',surname='veli')"
   ]
  },
  {
   "cell_type": "code",
   "execution_count": 45,
   "metadata": {},
   "outputs": [
    {
     "name": "stdout",
     "output_type": "stream",
     "text": [
      "name:ali\n"
     ]
    }
   ],
   "source": [
    "def persons(**kwargs):\n",
    "    for i,j in kwargs.items():\n",
    "        print('{}:{}'.format(i,j))\n",
    "\n",
    "persons(name='ali')"
   ]
  },
  {
   "cell_type": "code",
   "execution_count": 44,
   "metadata": {},
   "outputs": [
    {
     "name": "stdout",
     "output_type": "stream",
     "text": [
      "name:ali\n",
      "surname:veli\n"
     ]
    }
   ],
   "source": [
    "def persons(**kwargs):\n",
    "    for i,j in kwargs.items():\n",
    "        print('{}:{}'.format(i,j))\n",
    "\n",
    "persons(name='ali',surname='veli')"
   ]
  },
  {
   "cell_type": "code",
   "execution_count": 101,
   "metadata": {},
   "outputs": [
    {
     "name": "stdout",
     "output_type": "stream",
     "text": [
      "name=ali\n",
      "surname=veli\n",
      "age=35\n",
      "land=türkei\n",
      "born=1987\n",
      "job=data manager\n"
     ]
    }
   ],
   "source": [
    "def persons(**kwargs):\n",
    "    for i,j in kwargs.items():\n",
    "        print('{}={}'.format(i,j))\n",
    "\n",
    "persons(name='ali',surname='veli', age=35, land='türkei', born=1987, job='data manager') # more infos are possible"
   ]
  },
  {
   "cell_type": "code",
   "execution_count": 140,
   "metadata": {},
   "outputs": [
    {
     "name": "stdout",
     "output_type": "stream",
     "text": [
      "(1, 2, 3)\n",
      "{'name': 'adam', 'age': 45, 'land': 'de'}\n"
     ]
    }
   ],
   "source": [
    "def neu(*args,**kwargs):\n",
    "    print(args)\n",
    "    print(kwargs)\n",
    "neu(1,2,3,name='adam',age=45,land='de')"
   ]
  },
  {
   "cell_type": "code",
   "execution_count": 141,
   "metadata": {},
   "outputs": [
    {
     "name": "stdout",
     "output_type": "stream",
     "text": [
      "adam\n",
      "45\n",
      "de\n"
     ]
    }
   ],
   "source": [
    "def neu1(**kwargs):\n",
    "    for i in kwargs.values():\n",
    "        print(i)\n",
    "neu1(name='adam',age=45,land='de')"
   ]
  },
  {
   "cell_type": "code",
   "execution_count": 142,
   "metadata": {},
   "outputs": [
    {
     "data": {
      "text/plain": [
       "'adam smith de'"
      ]
     },
     "execution_count": 142,
     "metadata": {},
     "output_type": "execute_result"
    }
   ],
   "source": [
    "def neu2(**kwargs):\n",
    "    output=''\n",
    "    for i in kwargs.values():\n",
    "        output +=i\n",
    "    return output\n",
    "        \n",
    "neu2(name='adam ',lastname='smith ',land='de')"
   ]
  }
 ],
 "metadata": {
  "kernelspec": {
   "display_name": "Python 3",
   "language": "python",
   "name": "python3"
  },
  "language_info": {
   "codemirror_mode": {
    "name": "ipython",
    "version": 3
   },
   "file_extension": ".py",
   "mimetype": "text/x-python",
   "name": "python",
   "nbconvert_exporter": "python",
   "pygments_lexer": "ipython3",
   "version": "3.7.4"
  }
 },
 "nbformat": 4,
 "nbformat_minor": 2
}
