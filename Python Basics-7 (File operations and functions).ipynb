{
 "cells": [
  {
   "cell_type": "markdown",
   "metadata": {},
   "source": [
    "# Python Basics-7 (File operations and functions)"
   ]
  },
  {
   "cell_type": "markdown",
   "metadata": {},
   "source": [
    " + open,  \n",
    " + read,write,append,  \n",
    " + with open,   \n",
    " + tell(), seek(),  \n",
    " + writelines(), readlines())  \n",
    " + r+,w+,a+  "
   ]
  },
  {
   "cell_type": "markdown",
   "metadata": {},
   "source": [
    "### Write"
   ]
  },
  {
   "cell_type": "code",
   "execution_count": 1,
   "metadata": {},
   "outputs": [],
   "source": [
    "file=open('file.txt','w') # wenn kein datei , wird erstellt"
   ]
  },
  {
   "cell_type": "code",
   "execution_count": 4,
   "metadata": {},
   "outputs": [
    {
     "data": {
      "text/plain": [
       "<_io.TextIOWrapper name='file1.txt' mode='w' encoding='cp1252'>"
      ]
     },
     "execution_count": 4,
     "metadata": {},
     "output_type": "execute_result"
    }
   ],
   "source": [
    "open('file1.txt','w')"
   ]
  },
  {
   "cell_type": "code",
   "execution_count": 2,
   "metadata": {},
   "outputs": [
    {
     "data": {
      "text/plain": [
       "37"
      ]
     },
     "execution_count": 2,
     "metadata": {},
     "output_type": "execute_result"
    }
   ],
   "source": [
    "file.write('hi, ich lerne Python für Data Science')"
   ]
  },
  {
   "cell_type": "code",
   "execution_count": 3,
   "metadata": {},
   "outputs": [],
   "source": [
    "file.close()"
   ]
  },
  {
   "cell_type": "code",
   "execution_count": 4,
   "metadata": {},
   "outputs": [],
   "source": [
    "file=open('file.txt','w',encoding='utf-8')"
   ]
  },
  {
   "cell_type": "code",
   "execution_count": 5,
   "metadata": {},
   "outputs": [
    {
     "data": {
      "text/plain": [
       "37"
      ]
     },
     "execution_count": 5,
     "metadata": {},
     "output_type": "execute_result"
    }
   ],
   "source": [
    "file.write('hi, ich lerne Python für Data Science')"
   ]
  },
  {
   "cell_type": "code",
   "execution_count": 6,
   "metadata": {},
   "outputs": [],
   "source": [
    "file.close()"
   ]
  },
  {
   "cell_type": "code",
   "execution_count": 7,
   "metadata": {},
   "outputs": [],
   "source": [
    "file=open('file.txt','w',encoding='utf-8') "
   ]
  },
  {
   "cell_type": "markdown",
   "metadata": {},
   "source": [
    "Die Datei wurde wieder geöffnet, aber alles drin gelöscht!!!"
   ]
  },
  {
   "cell_type": "code",
   "execution_count": 8,
   "metadata": {},
   "outputs": [
    {
     "data": {
      "text/plain": [
       "37"
      ]
     },
     "execution_count": 8,
     "metadata": {},
     "output_type": "execute_result"
    }
   ],
   "source": [
    "file.write('hi, ich lerne Python für Data Science') # wieder geschrieben"
   ]
  },
  {
   "cell_type": "code",
   "execution_count": 9,
   "metadata": {},
   "outputs": [],
   "source": [
    "file.close() #Nach diesem Code: Der Text ist jetzt wieder da"
   ]
  },
  {
   "cell_type": "markdown",
   "metadata": {},
   "source": [
    "#### Append"
   ]
  },
  {
   "cell_type": "code",
   "execution_count": 28,
   "metadata": {},
   "outputs": [],
   "source": [
    "file=open('file.txt','a',encoding='utf-8') "
   ]
  },
  {
   "cell_type": "markdown",
   "metadata": {},
   "source": [
    "In Datei gibt es alles in ordnung, nichts gelöscht"
   ]
  },
  {
   "cell_type": "code",
   "execution_count": 29,
   "metadata": {},
   "outputs": [
    {
     "data": {
      "text/plain": [
       "46"
      ]
     },
     "execution_count": 29,
     "metadata": {},
     "output_type": "execute_result"
    }
   ],
   "source": [
    "file.write('Nach Append möchte ich hier etwas appendieren.')"
   ]
  },
  {
   "cell_type": "markdown",
   "metadata": {},
   "source": [
    "Um die Veränderungen zu sehen muss ich die Datei wieder zumachen."
   ]
  },
  {
   "cell_type": "code",
   "execution_count": 30,
   "metadata": {},
   "outputs": [],
   "source": [
    "file.close()"
   ]
  },
  {
   "cell_type": "code",
   "execution_count": 31,
   "metadata": {},
   "outputs": [
    {
     "ename": "FileExistsError",
     "evalue": "[Errno 17] File exists: 'file.txt'",
     "output_type": "error",
     "traceback": [
      "\u001b[1;31m---------------------------------------------------------------------------\u001b[0m",
      "\u001b[1;31mFileExistsError\u001b[0m                           Traceback (most recent call last)",
      "\u001b[1;32m<ipython-input-31-8f17f17f642a>\u001b[0m in \u001b[0;36m<module>\u001b[1;34m\u001b[0m\n\u001b[1;32m----> 1\u001b[1;33m \u001b[0mfile\u001b[0m\u001b[1;33m=\u001b[0m\u001b[0mopen\u001b[0m\u001b[1;33m(\u001b[0m\u001b[1;34m'file.txt'\u001b[0m\u001b[1;33m,\u001b[0m\u001b[1;34m'x'\u001b[0m\u001b[1;33m,\u001b[0m\u001b[0mencoding\u001b[0m\u001b[1;33m=\u001b[0m\u001b[1;34m'utf-8'\u001b[0m\u001b[1;33m)\u001b[0m\u001b[1;33m\u001b[0m\u001b[1;33m\u001b[0m\u001b[0m\n\u001b[0m",
      "\u001b[1;31mFileExistsError\u001b[0m: [Errno 17] File exists: 'file.txt'"
     ]
    }
   ],
   "source": [
    "file=open('file.txt','x',encoding='utf-8') "
   ]
  },
  {
   "cell_type": "markdown",
   "metadata": {},
   "source": [
    "Bereits vorhandene Dateien können im X-Modus nicht geöffnet werden"
   ]
  },
  {
   "cell_type": "code",
   "execution_count": 10,
   "metadata": {},
   "outputs": [],
   "source": [
    "file=open('file.txt','a',encoding='utf-8') "
   ]
  },
  {
   "cell_type": "code",
   "execution_count": 11,
   "metadata": {},
   "outputs": [
    {
     "data": {
      "text/plain": [
       "650"
      ]
     },
     "execution_count": 11,
     "metadata": {},
     "output_type": "execute_result"
    }
   ],
   "source": [
    "file.write('Um etwas in eine Datei in Python zu schreiben oder zu lesen, müssen wir sie zuerst öffnen. \\nWir werden dafür die open () -Funktion verwenden. Die Funktion Open () akzeptiert 2 Parameter. Name der ersten Parameterdatei, zweiter Parametermodus. \\nIm Allgemeinen öffnen wir beim Ausführen von Dateivorgängen zuerst die Datei, führen dann die Lese- oder Schreibvorgänge aus und schließen schließlich unsere Datei. \\nWenn wir mit den Dateien fertig sind, schließen wir sie sofort. \\nEs ist keine Situation, die wir bevorzugen, weil sie Platz beansprucht, um offen zu bleiben. \\nLassen Sie uns eine Beispieldatei erstellen, etwas darin schreiben und schließen.')"
   ]
  },
  {
   "cell_type": "code",
   "execution_count": 13,
   "metadata": {},
   "outputs": [],
   "source": [
    "file.close()"
   ]
  },
  {
   "cell_type": "markdown",
   "metadata": {},
   "source": [
    "#### read()"
   ]
  },
  {
   "cell_type": "code",
   "execution_count": 14,
   "metadata": {},
   "outputs": [],
   "source": [
    "file=open('file.txt','r') # default Modus ist read() "
   ]
  },
  {
   "cell_type": "code",
   "execution_count": 15,
   "metadata": {},
   "outputs": [
    {
     "data": {
      "text/plain": [
       "'hi, ich lerne Python fÃ¼r Data ScienceUm etwas in eine Datei in Python zu schreiben oder zu lesen, mÃ¼ssen wir sie zuerst Ã¶ffnen. \\nWir werden dafÃ¼r die open () -Funktion verwenden. Die Funktion Open () akzeptiert 2 Parameter. Name der ersten Parameterdatei, zweiter Parametermodus. \\nIm Allgemeinen Ã¶ffnen wir beim AusfÃ¼hren von DateivorgÃ¤ngen zuerst die Datei, fÃ¼hren dann die Lese- oder SchreibvorgÃ¤nge aus und schlieÃŸen schlieÃŸlich unsere Datei. \\nWenn wir mit den Dateien fertig sind, schlieÃŸen wir sie sofort. \\nEs ist keine Situation, die wir bevorzugen, weil sie Platz beansprucht, um offen zu bleiben. \\nLassen Sie uns eine Beispieldatei erstellen, etwas darin schreiben und schlieÃŸen.'"
      ]
     },
     "execution_count": 15,
     "metadata": {},
     "output_type": "execute_result"
    }
   ],
   "source": [
    "file.read()"
   ]
  },
  {
   "cell_type": "code",
   "execution_count": 16,
   "metadata": {},
   "outputs": [],
   "source": [
    "file.close()"
   ]
  },
  {
   "cell_type": "code",
   "execution_count": 17,
   "metadata": {},
   "outputs": [],
   "source": [
    "file=open('file.txt') # default Modus ist read() "
   ]
  },
  {
   "cell_type": "code",
   "execution_count": 18,
   "metadata": {},
   "outputs": [
    {
     "data": {
      "text/plain": [
       "'hi, ich lerne Python fÃ¼r Data ScienceUm etwas in eine Datei in Python zu schreiben oder zu lesen, mÃ¼ssen wir sie zuerst Ã¶ffnen. \\nWir werden dafÃ¼r die open () -Funktion verwenden. Die Funktion Open () akzeptiert 2 Parameter. Name der ersten Parameterdatei, zweiter Parametermodus. \\nIm Allgemeinen Ã¶ffnen wir beim AusfÃ¼hren von DateivorgÃ¤ngen zuerst die Datei, fÃ¼hren dann die Lese- oder SchreibvorgÃ¤nge aus und schlieÃŸen schlieÃŸlich unsere Datei. \\nWenn wir mit den Dateien fertig sind, schlieÃŸen wir sie sofort. \\nEs ist keine Situation, die wir bevorzugen, weil sie Platz beansprucht, um offen zu bleiben. \\nLassen Sie uns eine Beispieldatei erstellen, etwas darin schreiben und schlieÃŸen.'"
      ]
     },
     "execution_count": 18,
     "metadata": {},
     "output_type": "execute_result"
    }
   ],
   "source": [
    "file.read()"
   ]
  },
  {
   "cell_type": "code",
   "execution_count": 19,
   "metadata": {},
   "outputs": [
    {
     "data": {
      "text/plain": [
       "''"
      ]
     },
     "execution_count": 19,
     "metadata": {},
     "output_type": "execute_result"
    }
   ],
   "source": [
    "file.read()   # Cursor ist am ende, deswegen schreib hier nichts"
   ]
  },
  {
   "cell_type": "code",
   "execution_count": 20,
   "metadata": {},
   "outputs": [],
   "source": [
    "file.close()"
   ]
  },
  {
   "cell_type": "code",
   "execution_count": 21,
   "metadata": {},
   "outputs": [],
   "source": [
    "file=open('file.txt','r',encoding='utf-8') # nach utf-8 sind die umlaut buchstabe korrekt geworden"
   ]
  },
  {
   "cell_type": "markdown",
   "metadata": {},
   "source": [
    "###### for  für read()"
   ]
  },
  {
   "cell_type": "code",
   "execution_count": 22,
   "metadata": {},
   "outputs": [
    {
     "name": "stdout",
     "output_type": "stream",
     "text": [
      "hi, ich lerne Python für Data ScienceUm etwas in eine Datei in Python zu schreiben oder zu lesen, müssen wir sie zuerst öffnen. \n",
      "\n",
      "Wir werden dafür die open () -Funktion verwenden. Die Funktion Open () akzeptiert 2 Parameter. Name der ersten Parameterdatei, zweiter Parametermodus. \n",
      "\n",
      "Im Allgemeinen öffnen wir beim Ausführen von Dateivorgängen zuerst die Datei, führen dann die Lese- oder Schreibvorgänge aus und schließen schließlich unsere Datei. \n",
      "\n",
      "Wenn wir mit den Dateien fertig sind, schließen wir sie sofort. \n",
      "\n",
      "Es ist keine Situation, die wir bevorzugen, weil sie Platz beansprucht, um offen zu bleiben. \n",
      "\n",
      "Lassen Sie uns eine Beispieldatei erstellen, etwas darin schreiben und schließen.\n"
     ]
    }
   ],
   "source": [
    "for i in file:\n",
    "    print(i)"
   ]
  },
  {
   "cell_type": "code",
   "execution_count": 23,
   "metadata": {},
   "outputs": [],
   "source": [
    "file.close()"
   ]
  },
  {
   "cell_type": "markdown",
   "metadata": {},
   "source": [
    "utf-8  habe ich geschrieben und der Text hat normal geworden"
   ]
  },
  {
   "cell_type": "code",
   "execution_count": 24,
   "metadata": {},
   "outputs": [],
   "source": [
    "file=open('file.txt') # ohne utf-8"
   ]
  },
  {
   "cell_type": "code",
   "execution_count": 25,
   "metadata": {},
   "outputs": [
    {
     "data": {
      "text/plain": [
       "'hi, ich lerne Python fÃ¼r Data ScienceUm etwas in eine Datei in Python zu schreiben oder zu lesen, mÃ¼ssen wir sie zuerst Ã¶ffnen. \\nWir werden dafÃ¼r die open () -Funktion verwenden. Die Funktion Open () akzeptiert 2 Parameter. Name der ersten Parameterdatei, zweiter Parametermodus. \\nIm Allgemeinen Ã¶ffnen wir beim AusfÃ¼hren von DateivorgÃ¤ngen zuerst die Datei, fÃ¼hren dann die Lese- oder SchreibvorgÃ¤nge aus und schlieÃŸen schlieÃŸlich unsere Datei. \\nWenn wir mit den Dateien fertig sind, schlieÃŸen wir sie sofort. \\nEs ist keine Situation, die wir bevorzugen, weil sie Platz beansprucht, um offen zu bleiben. \\nLassen Sie uns eine Beispieldatei erstellen, etwas darin schreiben und schlieÃŸen.'"
      ]
     },
     "execution_count": 25,
     "metadata": {},
     "output_type": "execute_result"
    }
   ],
   "source": [
    "file.read()"
   ]
  },
  {
   "cell_type": "code",
   "execution_count": 26,
   "metadata": {},
   "outputs": [],
   "source": [
    "file.close()"
   ]
  },
  {
   "cell_type": "code",
   "execution_count": 27,
   "metadata": {},
   "outputs": [],
   "source": [
    "file=open('file.txt',encoding='utf-8') # default Modus ist read() "
   ]
  },
  {
   "cell_type": "code",
   "execution_count": 28,
   "metadata": {},
   "outputs": [
    {
     "name": "stdout",
     "output_type": "stream",
     "text": [
      "hi, ich lerne Python für Data ScienceUm etwas in eine Datei in Python zu schreiben oder zu lesen, müssen wir sie zuerst öffnen. \n",
      " ?\n",
      "Wir werden dafür die open () -Funktion verwenden. Die Funktion Open () akzeptiert 2 Parameter. Name der ersten Parameterdatei, zweiter Parametermodus. \n",
      " ?\n",
      "Im Allgemeinen öffnen wir beim Ausführen von Dateivorgängen zuerst die Datei, führen dann die Lese- oder Schreibvorgänge aus und schließen schließlich unsere Datei. \n",
      " ?\n",
      "Wenn wir mit den Dateien fertig sind, schließen wir sie sofort. \n",
      " ?\n",
      "Es ist keine Situation, die wir bevorzugen, weil sie Platz beansprucht, um offen zu bleiben. \n",
      " ?\n",
      "Lassen Sie uns eine Beispieldatei erstellen, etwas darin schreiben und schließen. ?\n"
     ]
    }
   ],
   "source": [
    "for i in file:\n",
    "    print(i,'?')"
   ]
  },
  {
   "cell_type": "code",
   "execution_count": 29,
   "metadata": {},
   "outputs": [],
   "source": [
    "file.close()"
   ]
  },
  {
   "cell_type": "markdown",
   "metadata": {},
   "source": [
    "#### readline()"
   ]
  },
  {
   "cell_type": "code",
   "execution_count": 31,
   "metadata": {},
   "outputs": [],
   "source": [
    "file=open('file.txt','r',encoding='utf-8')"
   ]
  },
  {
   "cell_type": "code",
   "execution_count": 32,
   "metadata": {},
   "outputs": [
    {
     "data": {
      "text/plain": [
       "'hi, ich lerne Python für Data ScienceUm etwas in eine Datei in Python zu schreiben oder zu lesen, müssen wir sie zuerst öffnen. \\n'"
      ]
     },
     "execution_count": 32,
     "metadata": {},
     "output_type": "execute_result"
    }
   ],
   "source": [
    "file.readline()"
   ]
  },
  {
   "cell_type": "code",
   "execution_count": 33,
   "metadata": {},
   "outputs": [
    {
     "data": {
      "text/plain": [
       "'Wir werden dafür die open () -Funktion verwenden. Die Funktion Open () akzeptiert 2 Parameter. Name der ersten Parameterdatei, zweiter Parametermodus. \\n'"
      ]
     },
     "execution_count": 33,
     "metadata": {},
     "output_type": "execute_result"
    }
   ],
   "source": [
    "file.readline()"
   ]
  },
  {
   "cell_type": "code",
   "execution_count": 34,
   "metadata": {},
   "outputs": [
    {
     "data": {
      "text/plain": [
       "'Im Allgemeinen öffnen wir beim Ausführen von Dateivorgängen zuerst die Datei, führen dann die Lese- oder Schreibvorgänge aus und schließen schließlich unsere Datei. \\n'"
      ]
     },
     "execution_count": 34,
     "metadata": {},
     "output_type": "execute_result"
    }
   ],
   "source": [
    "file.readline()"
   ]
  },
  {
   "cell_type": "code",
   "execution_count": 35,
   "metadata": {},
   "outputs": [
    {
     "data": {
      "text/plain": [
       "'Wenn wir mit den Dateien fertig sind, schließen wir sie sofort. \\n'"
      ]
     },
     "execution_count": 35,
     "metadata": {},
     "output_type": "execute_result"
    }
   ],
   "source": [
    "file.readline()"
   ]
  },
  {
   "cell_type": "code",
   "execution_count": 36,
   "metadata": {},
   "outputs": [
    {
     "data": {
      "text/plain": [
       "'Es ist keine Situation, die wir bevorzugen, weil sie Platz beansprucht, um offen zu bleiben. \\n'"
      ]
     },
     "execution_count": 36,
     "metadata": {},
     "output_type": "execute_result"
    }
   ],
   "source": [
    "file.readline()"
   ]
  },
  {
   "cell_type": "code",
   "execution_count": 37,
   "metadata": {},
   "outputs": [
    {
     "data": {
      "text/plain": [
       "'Lassen Sie uns eine Beispieldatei erstellen, etwas darin schreiben und schließen.'"
      ]
     },
     "execution_count": 37,
     "metadata": {},
     "output_type": "execute_result"
    }
   ],
   "source": [
    "file.readline()"
   ]
  },
  {
   "cell_type": "code",
   "execution_count": 38,
   "metadata": {},
   "outputs": [
    {
     "data": {
      "text/plain": [
       "''"
      ]
     },
     "execution_count": 38,
     "metadata": {},
     "output_type": "execute_result"
    }
   ],
   "source": [
    "file.readline()"
   ]
  },
  {
   "cell_type": "code",
   "execution_count": 39,
   "metadata": {},
   "outputs": [],
   "source": [
    "file.close()"
   ]
  },
  {
   "cell_type": "markdown",
   "metadata": {},
   "source": [
    "#### readlines()"
   ]
  },
  {
   "cell_type": "code",
   "execution_count": 40,
   "metadata": {},
   "outputs": [],
   "source": [
    "file=open('file.txt','r',encoding='utf-8') # default Modus ist read() "
   ]
  },
  {
   "cell_type": "code",
   "execution_count": 41,
   "metadata": {},
   "outputs": [
    {
     "data": {
      "text/plain": [
       "['hi, ich lerne Python für Data ScienceUm etwas in eine Datei in Python zu schreiben oder zu lesen, müssen wir sie zuerst öffnen. \\n',\n",
       " 'Wir werden dafür die open () -Funktion verwenden. Die Funktion Open () akzeptiert 2 Parameter. Name der ersten Parameterdatei, zweiter Parametermodus. \\n',\n",
       " 'Im Allgemeinen öffnen wir beim Ausführen von Dateivorgängen zuerst die Datei, führen dann die Lese- oder Schreibvorgänge aus und schließen schließlich unsere Datei. \\n',\n",
       " 'Wenn wir mit den Dateien fertig sind, schließen wir sie sofort. \\n',\n",
       " 'Es ist keine Situation, die wir bevorzugen, weil sie Platz beansprucht, um offen zu bleiben. \\n',\n",
       " 'Lassen Sie uns eine Beispieldatei erstellen, etwas darin schreiben und schließen.']"
      ]
     },
     "execution_count": 41,
     "metadata": {},
     "output_type": "execute_result"
    }
   ],
   "source": [
    "file.readlines()"
   ]
  },
  {
   "cell_type": "code",
   "execution_count": 42,
   "metadata": {},
   "outputs": [
    {
     "data": {
      "text/plain": [
       "[]"
      ]
     },
     "execution_count": 42,
     "metadata": {},
     "output_type": "execute_result"
    }
   ],
   "source": [
    "file.readlines()"
   ]
  },
  {
   "cell_type": "code",
   "execution_count": 43,
   "metadata": {},
   "outputs": [],
   "source": [
    "file.close()"
   ]
  },
  {
   "cell_type": "code",
   "execution_count": 44,
   "metadata": {},
   "outputs": [],
   "source": [
    "file=open('file.txt','r',encoding='utf-8') # default Modus ist read() "
   ]
  },
  {
   "cell_type": "code",
   "execution_count": 45,
   "metadata": {},
   "outputs": [],
   "source": [
    "list=file.readlines()"
   ]
  },
  {
   "cell_type": "code",
   "execution_count": 46,
   "metadata": {},
   "outputs": [
    {
     "data": {
      "text/plain": [
       "'hi, ich lerne Python für Data ScienceUm etwas in eine Datei in Python zu schreiben oder zu lesen, müssen wir sie zuerst öffnen. \\n'"
      ]
     },
     "execution_count": 46,
     "metadata": {},
     "output_type": "execute_result"
    }
   ],
   "source": [
    "list[0]"
   ]
  },
  {
   "cell_type": "code",
   "execution_count": 47,
   "metadata": {},
   "outputs": [],
   "source": [
    "file.close()"
   ]
  },
  {
   "cell_type": "markdown",
   "metadata": {},
   "source": [
    "## with open:  benötigt kein .close()"
   ]
  },
  {
   "cell_type": "code",
   "execution_count": 48,
   "metadata": {},
   "outputs": [],
   "source": [
    "with open ('file.txt','w',encoding='utf-8') as f:\n",
    "    f.write('Um etwas in eine Datei in Python zu schreiben oder zu lesen, müssen wir sie zuerst öffnen. \\n')\n",
    "    f.write('Um etwas in eine Datei in Python zu schreiben oder zu lesen, müssen wir sie zuerst öffnen. \\n')\n",
    "    f.write('Um etwas in eine Datei in Python zu schreiben oder zu lesen, müssen wir sie zuerst öffnen. \\n')\n",
    "    "
   ]
  },
  {
   "cell_type": "code",
   "execution_count": 49,
   "metadata": {},
   "outputs": [
    {
     "ename": "ValueError",
     "evalue": "I/O operation on closed file.",
     "output_type": "error",
     "traceback": [
      "\u001b[1;31m---------------------------------------------------------------------------\u001b[0m",
      "\u001b[1;31mValueError\u001b[0m                                Traceback (most recent call last)",
      "\u001b[1;32m<ipython-input-49-f3fc120c03c1>\u001b[0m in \u001b[0;36m<module>\u001b[1;34m\u001b[0m\n\u001b[1;32m----> 1\u001b[1;33m \u001b[0mfile\u001b[0m\u001b[1;33m.\u001b[0m\u001b[0mread\u001b[0m\u001b[1;33m(\u001b[0m\u001b[1;33m)\u001b[0m\u001b[1;33m\u001b[0m\u001b[1;33m\u001b[0m\u001b[0m\n\u001b[0m",
      "\u001b[1;31mValueError\u001b[0m: I/O operation on closed file."
     ]
    }
   ],
   "source": [
    "file.read()"
   ]
  },
  {
   "cell_type": "code",
   "execution_count": 54,
   "metadata": {},
   "outputs": [
    {
     "name": "stdout",
     "output_type": "stream",
     "text": [
      "Um etwas in eine Datei in Python zu schreiben oder zu lesen, müssen wir sie zuerst öffnen. \n",
      "Um etwas in eine Datei in Python zu schreiben oder zu lesen, müssen wir sie zuerst öffnen. \n",
      "Um etwas in eine Datei in Python zu schreiben oder zu lesen, müssen wir sie zuerst öffnen. \n",
      "\n"
     ]
    }
   ],
   "source": [
    "with open ('file.txt','r',encoding='utf-8') as f:\n",
    "    print(f.read())\n",
    "    "
   ]
  },
  {
   "cell_type": "markdown",
   "metadata": {},
   "source": [
    "### seek() und tell()"
   ]
  },
  {
   "cell_type": "code",
   "execution_count": 57,
   "metadata": {},
   "outputs": [
    {
     "name": "stdout",
     "output_type": "stream",
     "text": [
      " Python zu\n",
      "35\n"
     ]
    }
   ],
   "source": [
    "with open ('file.txt','r',encoding='utf-8') as f:\n",
    "    f.seek(25)\n",
    "    print(f.read(10))\n",
    "    print(f.tell())\n",
    "    "
   ]
  },
  {
   "cell_type": "code",
   "execution_count": 61,
   "metadata": {},
   "outputs": [
    {
     "name": "stdout",
     "output_type": "stream",
     "text": [
      "15\n",
      "315\n"
     ]
    }
   ],
   "source": [
    "with open ('file.txt','a',encoding='utf-8') as f:\n",
    "    f.seek(25)\n",
    "    print(f.write('__neu neu neu__'))\n",
    "    print(f.tell())\n",
    "    "
   ]
  },
  {
   "cell_type": "code",
   "execution_count": 62,
   "metadata": {},
   "outputs": [
    {
     "name": "stdout",
     "output_type": "stream",
     "text": [
      "15\n",
      "330\n"
     ]
    }
   ],
   "source": [
    "with open ('file.txt','a',encoding='utf-8') as f:\n",
    "    f.seek(25)\n",
    "    print(f.write('__neu neu neu__'))\n",
    "    print(f.tell())\n",
    "    "
   ]
  },
  {
   "cell_type": "markdown",
   "metadata": {},
   "source": [
    "### r+  : write and read"
   ]
  },
  {
   "cell_type": "code",
   "execution_count": 64,
   "metadata": {},
   "outputs": [
    {
     "name": "stdout",
     "output_type": "stream",
     "text": [
      "Um etwas i\n"
     ]
    }
   ],
   "source": [
    "with open ('file.txt','r+',encoding='utf-8') as f:\n",
    "    print(f.read(10))"
   ]
  },
  {
   "cell_type": "code",
   "execution_count": 65,
   "metadata": {},
   "outputs": [
    {
     "name": "stdout",
     "output_type": "stream",
     "text": [
      "Um etwas i\n"
     ]
    }
   ],
   "source": [
    "with open ('file.txt','r+',encoding='utf-8') as f:\n",
    "    print(f.read(10))\n",
    "    f.write('_new new_')"
   ]
  },
  {
   "cell_type": "code",
   "execution_count": 67,
   "metadata": {},
   "outputs": [
    {
     "name": "stdout",
     "output_type": "stream",
     "text": [
      "Um etwas in eine Datei in Python zu schreiben oder zu lesen, müssen wir sie zuerst öffnen. \n",
      "Um etwas in eine Datei in Python zu schreiben oder zu lesen, müssen wir sie zuerst öffnen. \n",
      "Um etwas in eine Datei in Python zu schreiben oder zu lesen, müssen wir sie zuerst öffnen. \n",
      "__neu neu neu____neu neu neu____neu neu neu___new new_\n"
     ]
    }
   ],
   "source": [
    "with open ('file.txt','r+',encoding='utf-8') as f:\n",
    "    print(f.read())\n"
   ]
  },
  {
   "cell_type": "code",
   "execution_count": 79,
   "metadata": {},
   "outputs": [
    {
     "name": "stdout",
     "output_type": "stream",
     "text": [
      "Um etwas in eine Datei in Python zu schreiben oder zu lesen, müssen wir sie zuerst öffnen.\n"
     ]
    }
   ],
   "source": [
    "with open ('file.txt','w+',encoding='utf-8') as f:\n",
    "    f.write('Um etwas in eine Datei in Python zu schreiben oder zu lesen, müssen wir sie zuerst öffnen.')\n",
    "    f.seek(0)\n",
    "    print(f.read())"
   ]
  },
  {
   "cell_type": "code",
   "execution_count": 77,
   "metadata": {},
   "outputs": [
    {
     "name": "stdout",
     "output_type": "stream",
     "text": [
      "HEAD__Um etwas in eine Datei in Python zu schreiben oder zu lesen, müssen wir sie zuerst öffnen.\n"
     ]
    }
   ],
   "source": [
    "with open ('file.txt','r+',encoding='utf-8') as f:\n",
    "    text=f.read()\n",
    "    text='HEAD__'+text\n",
    "    f.seek(0)\n",
    "    f.write(text)\n",
    "    f.seek(0)\n",
    "    print(f.read())"
   ]
  },
  {
   "cell_type": "markdown",
   "metadata": {},
   "source": [
    "ohne '+ text' haben wir übergeschrieben"
   ]
  },
  {
   "cell_type": "code",
   "execution_count": 81,
   "metadata": {},
   "outputs": [
    {
     "name": "stdout",
     "output_type": "stream",
     "text": [
      "HEAD1__s in eine Datei in Python zu schreiben oder zu lesen, müssen wir sie zuerst öffnen.\n"
     ]
    }
   ],
   "source": [
    "with open ('file.txt','r+',encoding='utf-8') as f:\n",
    "    text=f.read()\n",
    "    text='HEAD1__'\n",
    "    f.seek(0)\n",
    "    f.write(text)\n",
    "    f.seek(0)\n",
    "    print(f.read())"
   ]
  },
  {
   "cell_type": "code",
   "execution_count": 82,
   "metadata": {},
   "outputs": [
    {
     "name": "stdout",
     "output_type": "stream",
     "text": [
      "Um etwas in eine Datei in Python zu schreiben oder zu lesen, müssen wir sie zuerst öffnen.\n"
     ]
    }
   ],
   "source": [
    "with open ('file.txt','w+',encoding='utf-8') as f:\n",
    "    f.write('Um etwas in eine Datei in Python zu schreiben oder zu lesen, müssen wir sie zuerst öffnen.')\n",
    "    f.seek(0)\n",
    "    print(f.read())"
   ]
  },
  {
   "cell_type": "code",
   "execution_count": 83,
   "metadata": {},
   "outputs": [
    {
     "name": "stdout",
     "output_type": "stream",
     "text": [
      "Um etwas in eine Datei in Python zu schreiben oder zu lesen, müssen wir sie zuerst öffnen.\n"
     ]
    }
   ],
   "source": [
    "with open ('file.txt','r+',encoding='utf-8') as f:\n",
    "    print(f.read())"
   ]
  },
  {
   "cell_type": "markdown",
   "metadata": {},
   "source": [
    "#### to add something in text"
   ]
  },
  {
   "cell_type": "code",
   "execution_count": 84,
   "metadata": {},
   "outputs": [],
   "source": [
    "with open ('file.txt','r+',encoding='utf-8') as f:\n",
    "    f.seek(20)\n",
    "    f.write('____________________')"
   ]
  },
  {
   "cell_type": "code",
   "execution_count": 85,
   "metadata": {},
   "outputs": [],
   "source": [
    "with open ('file.txt','r+',encoding='utf-8') as f:\n",
    "    f.seek(20)\n",
    "    f.write('++++++')"
   ]
  },
  {
   "cell_type": "code",
   "execution_count": 100,
   "metadata": {},
   "outputs": [
    {
     "name": "stdout",
     "output_type": "stream",
     "text": [
      "Um etwas in eine Datei in Python zu schreiben oder zu lesen, müssen wir sie zuerst öffnen.\n",
      "Um etwas in eine Datei in Python zu schreiben oder zu lesen, müssen wir sie zuerst öffnen.\n",
      "Um etwas in eine Datei in Python zu schreiben oder zu lesen, müssen wir sie zuerst öffnen.\n",
      "\n"
     ]
    }
   ],
   "source": [
    "with open ('file.txt','w+',encoding='utf-8') as f:\n",
    "    f.write('Um etwas in eine Datei in Python zu schreiben oder zu lesen, müssen wir sie zuerst öffnen.\\n')\n",
    "    f.write('Um etwas in eine Datei in Python zu schreiben oder zu lesen, müssen wir sie zuerst öffnen.\\n')\n",
    "    f.write('Um etwas in eine Datei in Python zu schreiben oder zu lesen, müssen wir sie zuerst öffnen.\\n')\n",
    "    f.seek(0)\n",
    "    print(f.read())"
   ]
  },
  {
   "cell_type": "code",
   "execution_count": 98,
   "metadata": {},
   "outputs": [
    {
     "name": "stdout",
     "output_type": "stream",
     "text": [
      "['Um etwas in eine Datei in Python zu schreiben oder zu lesen, müssen wir sie zuerst öffnen.\\n', 'Um etwas in eine Datei in Python zu schreiben oder zu lesen, müssen wir sie zuerst öffnen.\\n', 'Um etwas in eine Datei in Python zu schreiben oder zu lesen, müssen wir sie zuerst öffnen.\\n']\n",
      "Um etwas in eine Datei in Python zu schreiben oder zu lesen, müssen wir sie zuerst öffnen.\n",
      "\n"
     ]
    }
   ],
   "source": [
    "with open ('file.txt','r+',encoding='utf-8') as f:\n",
    "    list1=f.readlines()\n",
    "    print(list1)\n",
    "    print(list1[0])"
   ]
  },
  {
   "cell_type": "code",
   "execution_count": 101,
   "metadata": {},
   "outputs": [
    {
     "name": "stdout",
     "output_type": "stream",
     "text": [
      "Um etwas in eine Datei in Python zu schreiben oder zu lesen, müssen wir sie zuerst öffnen.\n",
      "Um etwas in eine Datei in Python zu schreiben oder zu lesen, müssen wir sie zuerst öffnen.\n",
      "______\n",
      "Um etwas in eine Datei in Python zu schreiben oder zu lesen, müssen wir sie zuerst öffnen.\n",
      "\n"
     ]
    }
   ],
   "source": [
    "with open ('file.txt','r+',encoding='utf-8') as f:\n",
    "    list2=f.readlines()\n",
    "    list2.insert(2,'______\\n')\n",
    "    f.seek(0)\n",
    "    f.writelines(list2)\n",
    "    f.seek(0)\n",
    "    print(f.read())"
   ]
  },
  {
   "cell_type": "code",
   "execution_count": 103,
   "metadata": {},
   "outputs": [
    {
     "name": "stdout",
     "output_type": "stream",
     "text": [
      "0\n"
     ]
    }
   ],
   "source": [
    "with open ('file.txt','r+',encoding='utf-8') as f:\n",
    "    print(f.tell())"
   ]
  },
  {
   "cell_type": "code",
   "execution_count": null,
   "metadata": {},
   "outputs": [],
   "source": []
  }
 ],
 "metadata": {
  "kernelspec": {
   "display_name": "Python 3",
   "language": "python",
   "name": "python3"
  },
  "language_info": {
   "codemirror_mode": {
    "name": "ipython",
    "version": 3
   },
   "file_extension": ".py",
   "mimetype": "text/x-python",
   "name": "python",
   "nbconvert_exporter": "python",
   "pygments_lexer": "ipython3",
   "version": "3.7.4"
  }
 },
 "nbformat": 4,
 "nbformat_minor": 2
}
