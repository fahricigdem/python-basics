{
 "cells": [
  {
   "cell_type": "markdown",
   "metadata": {},
   "source": [
    "# Python Basics-4 (Object Oriented Programming)\n",
    "*  Initializer and Constructor\n",
    "*  Encapsulation\n",
    "+  Inheritance\n",
    "+  Abstract Class\n",
    "+  Overriding\n",
    "+  Polymorphism"
   ]
  },
  {
   "cell_type": "code",
   "execution_count": 281,
   "metadata": {},
   "outputs": [],
   "source": [
    "class student:\n",
    "    name='onur'\n",
    "    lastname='cigdem'\n",
    "    age=14\n",
    "    noten=90"
   ]
  },
  {
   "cell_type": "code",
   "execution_count": 5,
   "metadata": {},
   "outputs": [
    {
     "data": {
      "text/plain": [
       "__main__.student"
      ]
     },
     "execution_count": 5,
     "metadata": {},
     "output_type": "execute_result"
    }
   ],
   "source": [
    "student"
   ]
  },
  {
   "cell_type": "code",
   "execution_count": 6,
   "metadata": {},
   "outputs": [
    {
     "data": {
      "text/plain": [
       "'onur'"
      ]
     },
     "execution_count": 6,
     "metadata": {},
     "output_type": "execute_result"
    }
   ],
   "source": [
    "student.name"
   ]
  },
  {
   "cell_type": "code",
   "execution_count": 22,
   "metadata": {},
   "outputs": [
    {
     "data": {
      "text/plain": [
       "__main__.student"
      ]
     },
     "execution_count": 22,
     "metadata": {},
     "output_type": "execute_result"
    }
   ],
   "source": [
    "s1=student\n",
    "s1"
   ]
  },
  {
   "cell_type": "code",
   "execution_count": 23,
   "metadata": {},
   "outputs": [],
   "source": [
    "s=student()"
   ]
  },
  {
   "cell_type": "code",
   "execution_count": 24,
   "metadata": {},
   "outputs": [
    {
     "data": {
      "text/plain": [
       "<__main__.student at 0x18f0235f788>"
      ]
     },
     "execution_count": 24,
     "metadata": {},
     "output_type": "execute_result"
    }
   ],
   "source": [
    "s"
   ]
  },
  {
   "cell_type": "code",
   "execution_count": 25,
   "metadata": {},
   "outputs": [
    {
     "data": {
      "text/plain": [
       "'onur'"
      ]
     },
     "execution_count": 25,
     "metadata": {},
     "output_type": "execute_result"
    }
   ],
   "source": [
    "s.name"
   ]
  },
  {
   "cell_type": "markdown",
   "metadata": {},
   "source": [
    "# Initializer and Constuctor"
   ]
  },
  {
   "cell_type": "code",
   "execution_count": 28,
   "metadata": {},
   "outputs": [],
   "source": [
    "class student:\n",
    "    def __init__(self,name,lname,age,noten):\n",
    "        self.object_name=name\n",
    "        self.object_lname=lname\n",
    "        self.object_age=age\n",
    "        self.object_noten=noten\n"
   ]
  },
  {
   "cell_type": "code",
   "execution_count": 29,
   "metadata": {},
   "outputs": [],
   "source": [
    "eins=student('onur','cigdem',15,90)"
   ]
  },
  {
   "cell_type": "code",
   "execution_count": 30,
   "metadata": {},
   "outputs": [
    {
     "data": {
      "text/plain": [
       "<__main__.student at 0x18f023667c8>"
      ]
     },
     "execution_count": 30,
     "metadata": {},
     "output_type": "execute_result"
    }
   ],
   "source": [
    "eins"
   ]
  },
  {
   "cell_type": "code",
   "execution_count": 31,
   "metadata": {},
   "outputs": [
    {
     "data": {
      "text/plain": [
       "__main__.student"
      ]
     },
     "execution_count": 31,
     "metadata": {},
     "output_type": "execute_result"
    }
   ],
   "source": [
    "type(eins)"
   ]
  },
  {
   "cell_type": "code",
   "execution_count": 33,
   "metadata": {},
   "outputs": [
    {
     "data": {
      "text/plain": [
       "'onur'"
      ]
     },
     "execution_count": 33,
     "metadata": {},
     "output_type": "execute_result"
    }
   ],
   "source": [
    "eins.object_name"
   ]
  },
  {
   "cell_type": "markdown",
   "metadata": {},
   "source": [
    "=============================================================================================="
   ]
  },
  {
   "cell_type": "code",
   "execution_count": 282,
   "metadata": {},
   "outputs": [],
   "source": [
    "class mitarbeiter:\n",
    "    def __init__(self,name,lname,age):\n",
    "        self.n=name\n",
    "        self.ln=lname\n",
    "        self.a=age\n",
    "        \n"
   ]
  },
  {
   "cell_type": "code",
   "execution_count": 283,
   "metadata": {},
   "outputs": [],
   "source": [
    "adam=mitarbeiter('adam','smith','34')"
   ]
  },
  {
   "cell_type": "code",
   "execution_count": 286,
   "metadata": {},
   "outputs": [
    {
     "ename": "AttributeError",
     "evalue": "'mitarbeiter' object has no attribute 'name'",
     "output_type": "error",
     "traceback": [
      "\u001b[1;31m---------------------------------------------------------------------------\u001b[0m",
      "\u001b[1;31mAttributeError\u001b[0m                            Traceback (most recent call last)",
      "\u001b[1;32m<ipython-input-286-af5d8f4697a0>\u001b[0m in \u001b[0;36m<module>\u001b[1;34m\u001b[0m\n\u001b[1;32m----> 1\u001b[1;33m \u001b[0madam\u001b[0m\u001b[1;33m.\u001b[0m\u001b[0mname\u001b[0m\u001b[1;33m\u001b[0m\u001b[1;33m\u001b[0m\u001b[0m\n\u001b[0m",
      "\u001b[1;31mAttributeError\u001b[0m: 'mitarbeiter' object has no attribute 'name'"
     ]
    }
   ],
   "source": [
    "adam.name"
   ]
  },
  {
   "cell_type": "code",
   "execution_count": 287,
   "metadata": {},
   "outputs": [
    {
     "data": {
      "text/plain": [
       "'adam'"
      ]
     },
     "execution_count": 287,
     "metadata": {},
     "output_type": "execute_result"
    }
   ],
   "source": [
    "adam.n"
   ]
  },
  {
   "cell_type": "markdown",
   "metadata": {},
   "source": [
    "================================================================================"
   ]
  },
  {
   "cell_type": "code",
   "execution_count": 52,
   "metadata": {},
   "outputs": [],
   "source": [
    "class student:\n",
    "    def __init__(self,name,lname,age,noten):\n",
    "        self.name=name\n",
    "        self.lname=lname\n",
    "        self.age=age\n",
    "        self.noten=noten\n",
    "    def info(self):\n",
    "        print(\"{} {}'s age and noten infos are recorded in object\".format(self.name,self.lname))\n",
    "    def geburtsjahr(self):\n",
    "        return (2020 - self.age)"
   ]
  },
  {
   "cell_type": "code",
   "execution_count": 53,
   "metadata": {},
   "outputs": [],
   "source": [
    "eins=student('onur','cigdem',15,90)"
   ]
  },
  {
   "cell_type": "code",
   "execution_count": 54,
   "metadata": {},
   "outputs": [
    {
     "name": "stdout",
     "output_type": "stream",
     "text": [
      "onur cigdem's age and noten infos are recorded in object\n"
     ]
    }
   ],
   "source": [
    "eins.info()"
   ]
  },
  {
   "cell_type": "code",
   "execution_count": 55,
   "metadata": {},
   "outputs": [
    {
     "data": {
      "text/plain": [
       "15"
      ]
     },
     "execution_count": 55,
     "metadata": {},
     "output_type": "execute_result"
    }
   ],
   "source": [
    "eins.age"
   ]
  },
  {
   "cell_type": "code",
   "execution_count": 56,
   "metadata": {},
   "outputs": [
    {
     "data": {
      "text/plain": [
       "2005"
      ]
     },
     "execution_count": 56,
     "metadata": {},
     "output_type": "execute_result"
    }
   ],
   "source": [
    "eins.geburtsjahr()"
   ]
  },
  {
   "cell_type": "markdown",
   "metadata": {},
   "source": [
    "# Encapsulation"
   ]
  },
  {
   "cell_type": "code",
   "execution_count": 236,
   "metadata": {},
   "outputs": [],
   "source": [
    "class teacher:\n",
    "    def __init__(self,name,lname,age,gehalt,branch):\n",
    "        self.name=name\n",
    "        self.lname=lname\n",
    "        self.age=age\n",
    "        self.__gehalt=gehalt   # encapsulated\n",
    "        self.branch=branch\n",
    "    def info(self):\n",
    "        print(\"{} {}'s age and noten infos are recorded in object\".format(self.name,self.lname))\n",
    "    def mehrgehalt(self):\n",
    "        return self.gehalt"
   ]
  },
  {
   "cell_type": "code",
   "execution_count": 93,
   "metadata": {},
   "outputs": [],
   "source": [
    "ali = teacher('ali','veli',35,5000,'chemie')"
   ]
  },
  {
   "cell_type": "code",
   "execution_count": 66,
   "metadata": {},
   "outputs": [
    {
     "data": {
      "text/plain": [
       "5000"
      ]
     },
     "execution_count": 66,
     "metadata": {},
     "output_type": "execute_result"
    }
   ],
   "source": [
    "ali.gehalt"
   ]
  },
  {
   "cell_type": "markdown",
   "metadata": {},
   "source": [
    "gehalt must not be seen"
   ]
  },
  {
   "cell_type": "code",
   "execution_count": 87,
   "metadata": {},
   "outputs": [
    {
     "ename": "AttributeError",
     "evalue": "'teacher' object has no attribute 'gehalt'",
     "output_type": "error",
     "traceback": [
      "\u001b[1;31m---------------------------------------------------------------------------\u001b[0m",
      "\u001b[1;31mAttributeError\u001b[0m                            Traceback (most recent call last)",
      "\u001b[1;32m<ipython-input-87-bb5e4a06f23c>\u001b[0m in \u001b[0;36m<module>\u001b[1;34m\u001b[0m\n\u001b[1;32m----> 1\u001b[1;33m \u001b[0mali\u001b[0m\u001b[1;33m.\u001b[0m\u001b[0mgehalt\u001b[0m\u001b[1;33m\u001b[0m\u001b[1;33m\u001b[0m\u001b[0m\n\u001b[0m",
      "\u001b[1;31mAttributeError\u001b[0m: 'teacher' object has no attribute 'gehalt'"
     ]
    }
   ],
   "source": [
    "ali.gehalt"
   ]
  },
  {
   "cell_type": "code",
   "execution_count": 162,
   "metadata": {},
   "outputs": [],
   "source": [
    "class teacher:\n",
    "    def __init__(self,name,lname,age,gehalt,branch):\n",
    "        self.name=name\n",
    "        self.lname=lname\n",
    "        self.age=age\n",
    "        self.__gehalt=gehalt   # encapsulated\n",
    "        self.branch=branch\n",
    "    def info(self):\n",
    "        print(\"{} {}'s age and gehalt infos are recorded in object\".format(self.name,self.lname))\n",
    "    def mehrgehalt(self):\n",
    "        return self.__gehalt * 1.3\n",
    "    def getgehalt(self):\n",
    "        return self.__gehalt\n",
    "    def setgehalt(self,neuGehalt):\n",
    "        self.__gehalt=neuGehalt\n",
    "        return"
   ]
  },
  {
   "cell_type": "code",
   "execution_count": 129,
   "metadata": {},
   "outputs": [
    {
     "data": {
      "text/plain": [
       "__main__.teacher"
      ]
     },
     "execution_count": 129,
     "metadata": {},
     "output_type": "execute_result"
    }
   ],
   "source": [
    "ali=teacher\n",
    "ali"
   ]
  },
  {
   "cell_type": "code",
   "execution_count": 163,
   "metadata": {},
   "outputs": [
    {
     "name": "stdout",
     "output_type": "stream",
     "text": [
      "5000\n"
     ]
    }
   ],
   "source": [
    "ali=teacher('ali','veli',36,5000,'chemie')\n",
    "print(ali.getgehalt())\n"
   ]
  },
  {
   "cell_type": "code",
   "execution_count": 164,
   "metadata": {},
   "outputs": [
    {
     "data": {
      "text/plain": [
       "6500.0"
      ]
     },
     "execution_count": 164,
     "metadata": {},
     "output_type": "execute_result"
    }
   ],
   "source": [
    "ali.mehrgehalt()"
   ]
  },
  {
   "cell_type": "code",
   "execution_count": 142,
   "metadata": {},
   "outputs": [
    {
     "data": {
      "text/plain": [
       "6000"
      ]
     },
     "execution_count": 142,
     "metadata": {},
     "output_type": "execute_result"
    }
   ],
   "source": [
    "ali.setgehalt(6000)\n",
    "ali.getgehalt()"
   ]
  },
  {
   "cell_type": "code",
   "execution_count": 141,
   "metadata": {},
   "outputs": [
    {
     "name": "stdout",
     "output_type": "stream",
     "text": [
      "ali veli's age and gehalt infos are recorded in object\n"
     ]
    }
   ],
   "source": [
    "ali.info()"
   ]
  },
  {
   "cell_type": "code",
   "execution_count": 165,
   "metadata": {},
   "outputs": [],
   "source": [
    "class teacher:\n",
    "    def __init__(self,name,lname,age,gehalt,branch):\n",
    "        self.name=name\n",
    "        self.lname=lname\n",
    "        self.age=age\n",
    "        self.__gehalt=gehalt   # encapsulated\n",
    "        self.branch=branch\n",
    "    def info(self):\n",
    "        print(\"{} {}'s age and gehalt infos are recorded in object\".format(self.name,self.lname))\n",
    "    def __mehrgehalt(self):\n",
    "        return self.gehalt * 1.3\n",
    "    def getgehalt(self):\n",
    "        return self.__gehalt\n",
    "    def setgehalt(self,neuGehalt):\n",
    "        self.__gehalt=neuGehalt\n",
    "        return"
   ]
  },
  {
   "cell_type": "code",
   "execution_count": 166,
   "metadata": {},
   "outputs": [],
   "source": [
    "ali = teacher('ali','veli',35,5000,'chemie')"
   ]
  },
  {
   "cell_type": "code",
   "execution_count": 167,
   "metadata": {},
   "outputs": [
    {
     "ename": "AttributeError",
     "evalue": "'teacher' object has no attribute '__mehrgehalt'",
     "output_type": "error",
     "traceback": [
      "\u001b[1;31m---------------------------------------------------------------------------\u001b[0m",
      "\u001b[1;31mAttributeError\u001b[0m                            Traceback (most recent call last)",
      "\u001b[1;32m<ipython-input-167-7a8a56c4f563>\u001b[0m in \u001b[0;36m<module>\u001b[1;34m\u001b[0m\n\u001b[1;32m----> 1\u001b[1;33m \u001b[0mali\u001b[0m\u001b[1;33m.\u001b[0m\u001b[0m__mehrgehalt\u001b[0m\u001b[1;33m(\u001b[0m\u001b[1;33m)\u001b[0m\u001b[1;33m\u001b[0m\u001b[1;33m\u001b[0m\u001b[0m\n\u001b[0m",
      "\u001b[1;31mAttributeError\u001b[0m: 'teacher' object has no attribute '__mehrgehalt'"
     ]
    }
   ],
   "source": [
    "ali.__mehrgehalt()"
   ]
  },
  {
   "cell_type": "markdown",
   "metadata": {},
   "source": [
    "# Inheritance"
   ]
  },
  {
   "cell_type": "code",
   "execution_count": 221,
   "metadata": {},
   "outputs": [],
   "source": [
    "class school:\n",
    "    def __init__(self,name,lname,age):\n",
    "        self.name=name\n",
    "        self.lname=lname\n",
    "        self.age=age\n",
    "        print('school hat funktioniert')\n"
   ]
  },
  {
   "cell_type": "code",
   "execution_count": 223,
   "metadata": {},
   "outputs": [
    {
     "name": "stdout",
     "output_type": "stream",
     "text": [
      "school hat funktioniert\n"
     ]
    }
   ],
   "source": [
    "ob1=school('ali','veli',14)"
   ]
  },
  {
   "cell_type": "code",
   "execution_count": 224,
   "metadata": {},
   "outputs": [
    {
     "data": {
      "text/plain": [
       "'ali'"
      ]
     },
     "execution_count": 224,
     "metadata": {},
     "output_type": "execute_result"
    }
   ],
   "source": [
    "ob1.name"
   ]
  },
  {
   "cell_type": "code",
   "execution_count": 233,
   "metadata": {},
   "outputs": [],
   "source": [
    "class teacher(school):\n",
    "    def __init__(self,name,lname,age,gehalt):\n",
    "        super().__init__(name,lname,age)\n",
    "        self.gehalt=gehalt\n",
    "        print('teacher hat funktioniert')\n",
    "    def info(self):\n",
    "        print('{} takes {} as a teacher'.format(self.name,self.gehalt))"
   ]
  },
  {
   "cell_type": "code",
   "execution_count": 234,
   "metadata": {},
   "outputs": [
    {
     "name": "stdout",
     "output_type": "stream",
     "text": [
      "school hat funktioniert\n",
      "teacher hat funktioniert\n"
     ]
    }
   ],
   "source": [
    "ob2=teacher('ahmet','murat',35,5000)"
   ]
  },
  {
   "cell_type": "code",
   "execution_count": 235,
   "metadata": {},
   "outputs": [
    {
     "name": "stdout",
     "output_type": "stream",
     "text": [
      "ahmet takes 5000 as a teacher\n"
     ]
    }
   ],
   "source": [
    "ob2.info()"
   ]
  },
  {
   "cell_type": "markdown",
   "metadata": {},
   "source": [
    "# Abstract Class "
   ]
  },
  {
   "cell_type": "code",
   "execution_count": 239,
   "metadata": {},
   "outputs": [],
   "source": [
    "from abc import ABC, abstractmethod\n",
    "\n",
    "class Animal:\n",
    "    \n",
    "    @abstractmethod\n",
    "    def walk(self):\n",
    "        print('Animal is walking')\n",
    "\n",
    "    @abstractmethod\n",
    "    def run(self):\n",
    "        print('Animal is running')\n",
    "\n",
    "class Cat(Animal):\n",
    "    def walk(self):\n",
    "        print('Cat is walking')\n",
    "    def run(self):\n",
    "        print('Cat is running')"
   ]
  },
  {
   "cell_type": "code",
   "execution_count": 240,
   "metadata": {},
   "outputs": [],
   "source": [
    "lion=Cat()"
   ]
  },
  {
   "cell_type": "code",
   "execution_count": 242,
   "metadata": {},
   "outputs": [
    {
     "name": "stdout",
     "output_type": "stream",
     "text": [
      "Cat is running\n"
     ]
    }
   ],
   "source": [
    "lion.run()"
   ]
  },
  {
   "cell_type": "code",
   "execution_count": 243,
   "metadata": {},
   "outputs": [],
   "source": [
    "from abc import ABC, abstractmethod\n",
    "\n",
    "class Animal:\n",
    "    \n",
    "    @abstractmethod\n",
    "    def walk(self):\n",
    "        print('Animal is walking')\n",
    "\n",
    "    \n",
    "    def run(self):\n",
    "        print('Animal is running')\n",
    "\n",
    "class Cat(Animal):\n",
    "    def walk(self):\n",
    "        print('Cat is walking')\n"
   ]
  },
  {
   "cell_type": "code",
   "execution_count": 244,
   "metadata": {},
   "outputs": [],
   "source": [
    "lion=Cat()"
   ]
  },
  {
   "cell_type": "code",
   "execution_count": 288,
   "metadata": {},
   "outputs": [
    {
     "name": "stdout",
     "output_type": "stream",
     "text": [
      "Animal is running\n"
     ]
    }
   ],
   "source": [
    "lion.run() ### @abstractmethod ist nicht geschrieben"
   ]
  },
  {
   "cell_type": "markdown",
   "metadata": {},
   "source": [
    "# Overriding"
   ]
  },
  {
   "cell_type": "code",
   "execution_count": 246,
   "metadata": {},
   "outputs": [],
   "source": [
    "class school:\n",
    "    def __init__(self,name,lname,age):\n",
    "        self.name=name\n",
    "        self.lname=lname\n",
    "        self.age=age\n",
    "        print('school hat funktioniert')\n",
    "    \n",
    "    def info(self):\n",
    "        print('{} is in School'.format(self.name))\n",
    "\n",
    "class teacher(school):\n",
    "    def __init__(self,name,lname,age,gehalt):\n",
    "        super().__init__(name,lname,age)\n",
    "        self.gehalt=gehalt\n",
    "        print('teacher hat funktioniert')\n",
    "    def info(self):\n",
    "        print('{} takes {} as a teacher'.format(self.name,self.gehalt))"
   ]
  },
  {
   "cell_type": "code",
   "execution_count": null,
   "metadata": {},
   "outputs": [],
   "source": [
    "    def info(self):\n",
    "        print('{} takes {} as a teacher'.format(self.name,self.gehalt))"
   ]
  },
  {
   "cell_type": "code",
   "execution_count": 252,
   "metadata": {},
   "outputs": [
    {
     "name": "stdout",
     "output_type": "stream",
     "text": [
      "school hat funktioniert\n",
      "seco is in School\n"
     ]
    }
   ],
   "source": [
    "seco=school('seco','meco',30)\n",
    "seco.info()"
   ]
  },
  {
   "cell_type": "code",
   "execution_count": 253,
   "metadata": {},
   "outputs": [
    {
     "name": "stdout",
     "output_type": "stream",
     "text": [
      "school hat funktioniert\n",
      "teacher hat funktioniert\n",
      "teo takes 4000 as a teacher\n"
     ]
    }
   ],
   "source": [
    "teo=teacher('teo','meko',34,4000)\n",
    "teo.info()"
   ]
  },
  {
   "cell_type": "markdown",
   "metadata": {},
   "source": [
    "# Polymorphism "
   ]
  },
  {
   "cell_type": "code",
   "execution_count": 275,
   "metadata": {},
   "outputs": [],
   "source": [
    "class school:\n",
    "    def __init__(self,name,lname,age,gehalt):\n",
    "        self.name=name\n",
    "        self.lname=lname\n",
    "        self.age=age\n",
    "        self.gehalt=gehalt\n",
    "        print('school hat funktioniert')\n",
    "    \n",
    "    def info(self):\n",
    "        print('{} takes {} in School'.format(self.name,self.gehalt))\n",
    "        \n",
    "    def mehr(self):\n",
    "        self.gehalt= self.gehalt * 1.3\n",
    "\n",
    "class teacher(school):\n",
    "    def __init__(self,name,lname,age,gehalt,bereich):\n",
    "        super().__init__(name,lname,age,gehalt)\n",
    "        self.bereich=bereich\n",
    "        print('teacher hat funktioniert')\n",
    "    def info(self):\n",
    "        print('{} takes {} as a teacher'.format(self.name,self.gehalt))\n",
    "    \n",
    "    def mehr(self):\n",
    "        self.gehalt= self.gehalt * 1.5\n",
    "\n",
    "class managers(school):\n",
    "\n",
    "    def __init__(self,name,lname,age,gehalt):\n",
    "        super().__init__(name,lname,age,gehalt)\n",
    "        print('manager hat funktioniert')\n",
    "    def info(self):\n",
    "        print('{} takes {} as a manager'.format(self.name,self.gehalt))\n",
    "    \n",
    "    def mehr(self):\n",
    "        self.gehalt= self.gehalt * 2\n",
    "       "
   ]
  },
  {
   "cell_type": "code",
   "execution_count": 276,
   "metadata": {},
   "outputs": [
    {
     "name": "stdout",
     "output_type": "stream",
     "text": [
      "school hat funktioniert\n"
     ]
    },
    {
     "data": {
      "text/plain": [
       "'a'"
      ]
     },
     "execution_count": 276,
     "metadata": {},
     "output_type": "execute_result"
    }
   ],
   "source": [
    "one=school('a','b',33,3000)\n",
    "one.name"
   ]
  },
  {
   "cell_type": "code",
   "execution_count": 277,
   "metadata": {},
   "outputs": [
    {
     "name": "stdout",
     "output_type": "stream",
     "text": [
      "school hat funktioniert\n",
      "teacher hat funktioniert\n"
     ]
    },
    {
     "data": {
      "text/plain": [
       "'x'"
      ]
     },
     "execution_count": 277,
     "metadata": {},
     "output_type": "execute_result"
    }
   ],
   "source": [
    "two=teacher('x','y',44,3000,'chemie')\n",
    "two.name"
   ]
  },
  {
   "cell_type": "code",
   "execution_count": 278,
   "metadata": {},
   "outputs": [
    {
     "name": "stdout",
     "output_type": "stream",
     "text": [
      "school hat funktioniert\n",
      "manager hat funktioniert\n"
     ]
    },
    {
     "data": {
      "text/plain": [
       "'j'"
      ]
     },
     "execution_count": 278,
     "metadata": {},
     "output_type": "execute_result"
    }
   ],
   "source": [
    "three=managers('j','k',55,3000)\n",
    "three.name"
   ]
  },
  {
   "cell_type": "code",
   "execution_count": 279,
   "metadata": {},
   "outputs": [],
   "source": [
    "one.mehr()\n",
    "two.mehr()\n",
    "three.mehr()"
   ]
  },
  {
   "cell_type": "code",
   "execution_count": 280,
   "metadata": {},
   "outputs": [
    {
     "name": "stdout",
     "output_type": "stream",
     "text": [
      "a takes 3900.0 in School\n",
      "x takes 4500.0 as a teacher\n",
      "j takes 6000 as a manager\n"
     ]
    },
    {
     "data": {
      "text/plain": [
       "(None, None, None)"
      ]
     },
     "execution_count": 280,
     "metadata": {},
     "output_type": "execute_result"
    }
   ],
   "source": [
    "one.info(), two.info(), three.info()"
   ]
  },
  {
   "cell_type": "code",
   "execution_count": null,
   "metadata": {},
   "outputs": [],
   "source": []
  }
 ],
 "metadata": {
  "kernelspec": {
   "display_name": "Python 3",
   "language": "python",
   "name": "python3"
  },
  "language_info": {
   "codemirror_mode": {
    "name": "ipython",
    "version": 3
   },
   "file_extension": ".py",
   "mimetype": "text/x-python",
   "name": "python",
   "nbconvert_exporter": "python",
   "pygments_lexer": "ipython3",
   "version": "3.7.4"
  }
 },
 "nbformat": 4,
 "nbformat_minor": 2
}
